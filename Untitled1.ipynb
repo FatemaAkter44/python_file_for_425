{
 "cells": [
  {
   "cell_type": "code",
   "execution_count": null,
   "metadata": {},
   "outputs": [],
   "source": [
    "\n",
    "#PART\n",
    "f=open(\"data.txt\", 'r')\n",
    "print(f.read())\n",
    "#print(\"\\n\")\n",
    "\n",
    "\n",
    "#PART 3\n",
    "f=open(\"data.txt\", 'r')\n",
    "for line in f:\n",
    "    data=line.split()\n",
    "    print(data)\n",
    "#print(\"\\n\")\n",
    "\n",
    "\n",
    "#PART 4\n",
    "sortedWord= sorted(data)\n",
    "print(sortedWord)\n",
    "#print(\"\\n\")\n",
    "\n",
    "\n",
    "#part 5\n",
    "uniqueWordList=[]\n",
    "for i in sortedWord:\n",
    "    if i not in uniqueWordList:\n",
    "        uniqueWordList.append(i)\n",
    "print(uniqueWordList)"
   ]
  },
  {
   "cell_type": "code",
   "execution_count": null,
   "metadata": {},
   "outputs": [],
   "source": []
  },
  {
   "cell_type": "code",
   "execution_count": null,
   "metadata": {},
   "outputs": [],
   "source": []
  }
 ],
 "metadata": {
  "kernelspec": {
   "display_name": "Python 3",
   "language": "python",
   "name": "python3"
  },
  "language_info": {
   "codemirror_mode": {
    "name": "ipython",
    "version": 3
   },
   "file_extension": ".py",
   "mimetype": "text/x-python",
   "name": "python",
   "nbconvert_exporter": "python",
   "pygments_lexer": "ipython3",
   "version": "3.7.4"
  }
 },
 "nbformat": 4,
 "nbformat_minor": 2
}
