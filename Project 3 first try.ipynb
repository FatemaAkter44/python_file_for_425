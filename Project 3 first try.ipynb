{
 "cells": [
  {
   "cell_type": "code",
   "execution_count": 1,
   "metadata": {},
   "outputs": [
    {
     "name": "stdout",
     "output_type": "stream",
     "text": [
      "Date,Open,High,Low,Close,Adj Close,Volume\n",
      "\n",
      "2019-03-06,279.149994,279.160004,276.970001,277.329987,276.113770,75039800\n",
      "\n",
      "2019-03-07,276.829987,276.989990,274.070007,275.010010,273.803986,94885100\n",
      "\n",
      "2019-03-08,272.940002,274.649994,272.420013,274.459991,273.256378,85795800\n",
      "\n",
      "2019-03-11,275.260010,278.619995,275.230011,278.440002,277.218933,65098900\n",
      "\n",
      "2019-03-12,279.059998,280.070007,278.850006,279.489990,278.264313,79667500\n",
      "\n",
      "2019-03-13,280.480011,282.380005,280.299988,281.339996,280.106201,80639200\n",
      "\n",
      "2019-03-14,281.369995,281.839996,280.670013,281.160004,279.927002,67518400\n",
      "\n",
      "2019-03-15,280.540009,282.209991,280.329987,281.309998,281.309998,81309000\n",
      "\n",
      "2019-03-18,281.549988,282.660004,281.299988,282.329987,282.329987,62199800\n",
      "\n",
      "2019-03-19,283.510010,284.359985,281.410004,282.399994,282.399994,90268100\n",
      "\n",
      "2019-03-20,282.160004,283.500000,280.320007,281.549988,281.549988,84609200\n",
      "\n",
      "2019-03-21,280.640015,285.179993,280.589996,284.730011,284.730011,79550400\n",
      "\n",
      "2019-03-22,283.220001,283.799988,279.179993,279.250000,279.250000,122659300\n",
      "\n",
      "2019-03-25,278.869995,280.190002,277.640015,279.040009,279.040009,85575200\n",
      "\n",
      "2019-03-26,280.989990,282.179993,279.559998,281.119995,281.119995,68125900\n",
      "\n",
      "2019-03-27,281.109985,281.760010,277.929993,279.649994,279.649994,72224700\n",
      "\n",
      "2019-03-28,280.350006,281.209991,279.070007,280.709991,280.709991,56238500\n",
      "\n",
      "2019-03-29,282.390015,282.839996,281.140015,282.480011,282.480011,82186800\n",
      "\n",
      "2019-04-01,284.700012,286.160004,284.399994,285.829987,285.829987,77617900\n",
      "\n",
      "2019-04-02,286.040009,286.230011,285.089996,285.970001,285.970001,40070400\n",
      "\n",
      "2019-04-03,287.320007,287.760010,285.750000,286.420013,286.420013,68243200\n",
      "\n",
      "2019-04-04,286.779999,287.459991,286.010010,287.179993,287.179993,48898100\n",
      "\n",
      "2019-04-05,287.920013,288.630005,287.600006,288.519989,288.519989,58621729\n",
      "\n"
     ]
    }
   ],
   "source": [
    "#read csv file name SPY.csv\n",
    "csv_file = open('SPY.csv') \n",
    "for row in csv_file:\n",
    "    print(row)\n",
    "csv_file.close()"
   ]
  },
  {
   "cell_type": "code",
   "execution_count": 73,
   "metadata": {},
   "outputs": [
    {
     "ename": "SyntaxError",
     "evalue": "invalid syntax (<ipython-input-73-ff03de10554b>, line 4)",
     "output_type": "error",
     "traceback": [
      "\u001b[1;36m  File \u001b[1;32m\"<ipython-input-73-ff03de10554b>\"\u001b[1;36m, line \u001b[1;32m4\u001b[0m\n\u001b[1;33m    SPY{}\u001b[0m\n\u001b[1;37m       ^\u001b[0m\n\u001b[1;31mSyntaxError\u001b[0m\u001b[1;31m:\u001b[0m invalid syntax\n"
     ]
    }
   ],
   "source": [
    "# split valus in seperate line like list \n",
    "import csv     #help us to splite values \n",
    "\n",
    "SPY{}\n",
    "open('SPY.csv') as SPY \n",
    "    reader = csv.reader(SPY, delimiter=',')\n",
    "#for row in cvs_reader: \n",
    "    #print(row)\n",
    "\n",
    "\n",
    "    for row in reader:\n",
    "        print(SPY[Open])\n"
   ]
  },
  {
   "cell_type": "code",
   "execution_count": 2,
   "metadata": {},
   "outputs": [
    {
     "name": "stdout",
     "output_type": "stream",
     "text": [
      "['Date', 'Open', 'High', 'Low', 'Close', 'Adj Close', 'Volume']\n",
      "['2019-03-06', '279.149994', '279.160004', '276.970001', '277.329987', '276.113770', '75039800']\n",
      "['2019-03-07', '276.829987', '276.989990', '274.070007', '275.010010', '273.803986', '94885100']\n",
      "['2019-03-08', '272.940002', '274.649994', '272.420013', '274.459991', '273.256378', '85795800']\n",
      "['2019-03-11', '275.260010', '278.619995', '275.230011', '278.440002', '277.218933', '65098900']\n",
      "['2019-03-12', '279.059998', '280.070007', '278.850006', '279.489990', '278.264313', '79667500']\n",
      "['2019-03-13', '280.480011', '282.380005', '280.299988', '281.339996', '280.106201', '80639200']\n",
      "['2019-03-14', '281.369995', '281.839996', '280.670013', '281.160004', '279.927002', '67518400']\n",
      "['2019-03-15', '280.540009', '282.209991', '280.329987', '281.309998', '281.309998', '81309000']\n",
      "['2019-03-18', '281.549988', '282.660004', '281.299988', '282.329987', '282.329987', '62199800']\n",
      "['2019-03-19', '283.510010', '284.359985', '281.410004', '282.399994', '282.399994', '90268100']\n",
      "['2019-03-20', '282.160004', '283.500000', '280.320007', '281.549988', '281.549988', '84609200']\n",
      "['2019-03-21', '280.640015', '285.179993', '280.589996', '284.730011', '284.730011', '79550400']\n",
      "['2019-03-22', '283.220001', '283.799988', '279.179993', '279.250000', '279.250000', '122659300']\n",
      "['2019-03-25', '278.869995', '280.190002', '277.640015', '279.040009', '279.040009', '85575200']\n",
      "['2019-03-26', '280.989990', '282.179993', '279.559998', '281.119995', '281.119995', '68125900']\n",
      "['2019-03-27', '281.109985', '281.760010', '277.929993', '279.649994', '279.649994', '72224700']\n",
      "['2019-03-28', '280.350006', '281.209991', '279.070007', '280.709991', '280.709991', '56238500']\n",
      "['2019-03-29', '282.390015', '282.839996', '281.140015', '282.480011', '282.480011', '82186800']\n",
      "['2019-04-01', '284.700012', '286.160004', '284.399994', '285.829987', '285.829987', '77617900']\n",
      "['2019-04-02', '286.040009', '286.230011', '285.089996', '285.970001', '285.970001', '40070400']\n",
      "['2019-04-03', '287.320007', '287.760010', '285.750000', '286.420013', '286.420013', '68243200']\n",
      "['2019-04-04', '286.779999', '287.459991', '286.010010', '287.179993', '287.179993', '48898100']\n",
      "['2019-04-05', '287.920013', '288.630005', '287.600006', '288.519989', '288.519989', '58621729']\n"
     ]
    }
   ],
   "source": [
    "# split valus in seperate line like list \n",
    "import csv     #help us to splite values \n",
    "\n",
    "csv_file = open('SPY.csv') \n",
    "cvs_reader = csv.reader(csv_file, delimiter=',')\n",
    "for row in cvs_reader:\n",
    "\n",
    "    print(row)\n",
    "    \n",
    "    \n",
    "csv_file.close()"
   ]
  },
  {
   "cell_type": "code",
   "execution_count": null,
   "metadata": {},
   "outputs": [],
   "source": []
  },
  {
   "cell_type": "code",
   "execution_count": 14,
   "metadata": {
    "scrolled": true
   },
   "outputs": [
    {
     "ename": "TypeError",
     "evalue": "'_io.TextIOWrapper' object is not callable",
     "output_type": "error",
     "traceback": [
      "\u001b[1;31m---------------------------------------------------------------------------\u001b[0m",
      "\u001b[1;31mTypeError\u001b[0m                                 Traceback (most recent call last)",
      "\u001b[1;32m<ipython-input-14-1ad7a86b1885>\u001b[0m in \u001b[0;36m<module>\u001b[1;34m\u001b[0m\n\u001b[0;32m      4\u001b[0m \u001b[0mcvs_reader\u001b[0m \u001b[1;33m=\u001b[0m \u001b[0mcsv\u001b[0m\u001b[1;33m.\u001b[0m\u001b[0mreader\u001b[0m\u001b[1;33m(\u001b[0m\u001b[0mcsv_file\u001b[0m\u001b[1;33m,\u001b[0m \u001b[0mdelimiter\u001b[0m\u001b[1;33m=\u001b[0m\u001b[1;34m','\u001b[0m\u001b[1;33m)\u001b[0m\u001b[1;33m\u001b[0m\u001b[1;33m\u001b[0m\u001b[0m\n\u001b[0;32m      5\u001b[0m \u001b[0mnext\u001b[0m\u001b[1;33m(\u001b[0m\u001b[0mcvs_reader\u001b[0m\u001b[1;33m)\u001b[0m \u001b[1;31m# it goes to next line directly, only see data not header\u001b[0m\u001b[1;33m\u001b[0m\u001b[1;33m\u001b[0m\u001b[0m\n\u001b[1;32m----> 6\u001b[1;33m \u001b[1;32mfor\u001b[0m \u001b[0mrow\u001b[0m \u001b[1;32min\u001b[0m \u001b[0mcsv_file\u001b[0m\u001b[1;33m(\u001b[0m\u001b[1;36m0\u001b[0m\u001b[1;33m,\u001b[0m\u001b[1;36m6\u001b[0m\u001b[1;33m)\u001b[0m\u001b[1;33m:\u001b[0m\u001b[1;33m\u001b[0m\u001b[1;33m\u001b[0m\u001b[0m\n\u001b[0m\u001b[0;32m      7\u001b[0m     \u001b[0mprint\u001b[0m\u001b[1;33m(\u001b[0m\u001b[0mrowreade\u001b[0m\u001b[1;33m)\u001b[0m\u001b[1;33m\u001b[0m\u001b[1;33m\u001b[0m\u001b[0m\n\u001b[0;32m      8\u001b[0m \u001b[0mcsv_file\u001b[0m\u001b[1;33m.\u001b[0m\u001b[0mclose\u001b[0m\u001b[1;33m(\u001b[0m\u001b[1;33m)\u001b[0m\u001b[1;33m\u001b[0m\u001b[1;33m\u001b[0m\u001b[0m\n",
      "\u001b[1;31mTypeError\u001b[0m: '_io.TextIOWrapper' object is not callable"
     ]
    }
   ],
   "source": [
    "import csv     #help us to splite values \n",
    "\n",
    "csv_file = open('SPY.csv') \n",
    "cvs_reader = csv.reader(csv_file, delimiter=',')\n",
    "next(cvs_reader) # it goes to next line directly, only see data not header\n",
    "for row in csv_file(0,6):\n",
    "    print(rowreade)\n",
    "csv_file.close()"
   ]
  },
  {
   "cell_type": "code",
   "execution_count": 17,
   "metadata": {},
   "outputs": [
    {
     "ename": "SyntaxError",
     "evalue": "invalid syntax (<ipython-input-17-5d843cdb2f50>, line 8)",
     "output_type": "error",
     "traceback": [
      "\u001b[1;36m  File \u001b[1;32m\"<ipython-input-17-5d843cdb2f50>\"\u001b[1;36m, line \u001b[1;32m8\u001b[0m\n\u001b[1;33m    for row in range cvs_reader:\u001b[0m\n\u001b[1;37m                              ^\u001b[0m\n\u001b[1;31mSyntaxError\u001b[0m\u001b[1;31m:\u001b[0m invalid syntax\n"
     ]
    }
   ],
   "source": [
    "import csv     #help us to splite values \n",
    "\n",
    "csv_file = open('SPY.csv') \n",
    "cvs_reader = csv.reader(csv_file, delimiter=',')\n",
    "#next(cvs_reader) # it goes to next line directly, only see data not header\n",
    "\n",
    "\n",
    "for row in range cvs_reader:\n",
    "    Date, Open, High, Low, Close, Adj_Close, Volume = row #save it in diffrent variable\n",
    "    print(Date, Open, High, Low, Close, Adj_Close, Volume)\n",
    "   \n",
    "    \n",
    "    \n",
    "csv_file.close()"
   ]
  },
  {
   "cell_type": "code",
   "execution_count": 33,
   "metadata": {},
   "outputs": [
    {
     "ename": "ValueError",
     "evalue": "time data '2019-03-06' does not match format '%m/%d/%Y'",
     "output_type": "error",
     "traceback": [
      "\u001b[1;31m---------------------------------------------------------------------------\u001b[0m",
      "\u001b[1;31mValueError\u001b[0m                                Traceback (most recent call last)",
      "\u001b[1;32m<ipython-input-33-45938528cb46>\u001b[0m in \u001b[0;36m<module>\u001b[1;34m\u001b[0m\n\u001b[0;32m     11\u001b[0m     \u001b[1;32mfor\u001b[0m \u001b[0mrow\u001b[0m \u001b[1;32min\u001b[0m \u001b[0mcsv_reader\u001b[0m\u001b[1;33m:\u001b[0m\u001b[1;33m\u001b[0m\u001b[1;33m\u001b[0m\u001b[0m\n\u001b[0;32m     12\u001b[0m         \u001b[1;31m# row = [Date, Open, High, Low, Close, Adj_Close, Volume] #save it in diffrent variable\u001b[0m\u001b[1;33m\u001b[0m\u001b[1;33m\u001b[0m\u001b[1;33m\u001b[0m\u001b[0m\n\u001b[1;32m---> 13\u001b[1;33m         \u001b[0mdate\u001b[0m \u001b[1;33m=\u001b[0m \u001b[0mdatetime\u001b[0m\u001b[1;33m.\u001b[0m\u001b[0mstrptime\u001b[0m\u001b[1;33m(\u001b[0m\u001b[0mrow\u001b[0m\u001b[1;33m[\u001b[0m\u001b[1;36m0\u001b[0m\u001b[1;33m]\u001b[0m\u001b[1;33m,\u001b[0m \u001b[1;34m'%m/%d/%Y'\u001b[0m\u001b[1;33m)\u001b[0m\u001b[1;33m\u001b[0m\u001b[1;33m\u001b[0m\u001b[0m\n\u001b[0m\u001b[0;32m     14\u001b[0m         \u001b[0mopen_price\u001b[0m \u001b[1;33m=\u001b[0m \u001b[0mfloat\u001b[0m\u001b[1;33m(\u001b[0m\u001b[0mrow\u001b[0m\u001b[1;33m[\u001b[0m\u001b[1;36m1\u001b[0m\u001b[1;33m]\u001b[0m\u001b[1;33m)\u001b[0m\u001b[1;33m\u001b[0m\u001b[1;33m\u001b[0m\u001b[0m\n\u001b[0;32m     15\u001b[0m         \u001b[0mhigh\u001b[0m \u001b[1;33m=\u001b[0m \u001b[0mfloat\u001b[0m\u001b[1;33m(\u001b[0m\u001b[0mrow\u001b[0m\u001b[1;33m[\u001b[0m\u001b[1;36m2\u001b[0m\u001b[1;33m]\u001b[0m\u001b[1;33m)\u001b[0m\u001b[1;33m\u001b[0m\u001b[1;33m\u001b[0m\u001b[0m\n",
      "\u001b[1;32m~\\Anaconda3\\lib\\_strptime.py\u001b[0m in \u001b[0;36m_strptime_datetime\u001b[1;34m(cls, data_string, format)\u001b[0m\n\u001b[0;32m    575\u001b[0m     \"\"\"Return a class cls instance based on the input string and the\n\u001b[0;32m    576\u001b[0m     format string.\"\"\"\n\u001b[1;32m--> 577\u001b[1;33m     \u001b[0mtt\u001b[0m\u001b[1;33m,\u001b[0m \u001b[0mfraction\u001b[0m\u001b[1;33m,\u001b[0m \u001b[0mgmtoff_fraction\u001b[0m \u001b[1;33m=\u001b[0m \u001b[0m_strptime\u001b[0m\u001b[1;33m(\u001b[0m\u001b[0mdata_string\u001b[0m\u001b[1;33m,\u001b[0m \u001b[0mformat\u001b[0m\u001b[1;33m)\u001b[0m\u001b[1;33m\u001b[0m\u001b[1;33m\u001b[0m\u001b[0m\n\u001b[0m\u001b[0;32m    578\u001b[0m     \u001b[0mtzname\u001b[0m\u001b[1;33m,\u001b[0m \u001b[0mgmtoff\u001b[0m \u001b[1;33m=\u001b[0m \u001b[0mtt\u001b[0m\u001b[1;33m[\u001b[0m\u001b[1;33m-\u001b[0m\u001b[1;36m2\u001b[0m\u001b[1;33m:\u001b[0m\u001b[1;33m]\u001b[0m\u001b[1;33m\u001b[0m\u001b[1;33m\u001b[0m\u001b[0m\n\u001b[0;32m    579\u001b[0m     \u001b[0margs\u001b[0m \u001b[1;33m=\u001b[0m \u001b[0mtt\u001b[0m\u001b[1;33m[\u001b[0m\u001b[1;33m:\u001b[0m\u001b[1;36m6\u001b[0m\u001b[1;33m]\u001b[0m \u001b[1;33m+\u001b[0m \u001b[1;33m(\u001b[0m\u001b[0mfraction\u001b[0m\u001b[1;33m,\u001b[0m\u001b[1;33m)\u001b[0m\u001b[1;33m\u001b[0m\u001b[1;33m\u001b[0m\u001b[0m\n",
      "\u001b[1;32m~\\Anaconda3\\lib\\_strptime.py\u001b[0m in \u001b[0;36m_strptime\u001b[1;34m(data_string, format)\u001b[0m\n\u001b[0;32m    357\u001b[0m     \u001b[1;32mif\u001b[0m \u001b[1;32mnot\u001b[0m \u001b[0mfound\u001b[0m\u001b[1;33m:\u001b[0m\u001b[1;33m\u001b[0m\u001b[1;33m\u001b[0m\u001b[0m\n\u001b[0;32m    358\u001b[0m         raise ValueError(\"time data %r does not match format %r\" %\n\u001b[1;32m--> 359\u001b[1;33m                          (data_string, format))\n\u001b[0m\u001b[0;32m    360\u001b[0m     \u001b[1;32mif\u001b[0m \u001b[0mlen\u001b[0m\u001b[1;33m(\u001b[0m\u001b[0mdata_string\u001b[0m\u001b[1;33m)\u001b[0m \u001b[1;33m!=\u001b[0m \u001b[0mfound\u001b[0m\u001b[1;33m.\u001b[0m\u001b[0mend\u001b[0m\u001b[1;33m(\u001b[0m\u001b[1;33m)\u001b[0m\u001b[1;33m:\u001b[0m\u001b[1;33m\u001b[0m\u001b[1;33m\u001b[0m\u001b[0m\n\u001b[0;32m    361\u001b[0m         raise ValueError(\"unconverted data remains: %s\" %\n",
      "\u001b[1;31mValueError\u001b[0m: time data '2019-03-06' does not match format '%m/%d/%Y'"
     ]
    }
   ],
   "source": [
    "import csv   #help us to splite values \n",
    "\n",
    "from datetime import datetime\n",
    "\n",
    "with open('SPY.csv', newline='') as csv_file:    # now no need to warry about closing the file\n",
    "    csv_reader = csv.reader(csv_file)\n",
    "    header = next(csv_reader) # it goes to next line directly, only see data not header\n",
    "\n",
    "    data = []\n",
    "    \n",
    "    for row in csv_reader:\n",
    "        # row = [Date, Open, High, Low, Close, Adj_Close, Volume] #save it in diffrent variable\n",
    "        date = datetime.strptime(row[0], '%m/%d/%Y')\n",
    "        open_price = float(row[1])\n",
    "        high = float(row[2])\n",
    "        low = float(row[3])\n",
    "        close_price = float(row[4])\n",
    "        adj_close = float(row[5])\n",
    "        volume = int(row[6])\n",
    "        data.append([date, open_price, high, low, close_price, adj_close, volume])\n",
    "    print(data[0])\n",
    "        "
   ]
  },
  {
   "cell_type": "code",
   "execution_count": null,
   "metadata": {},
   "outputs": [],
   "source": [
    "import csv     #help us to splite values \n",
    "SPY = {}\n",
    "csv_file = open('SPY.csv') \n",
    "cvs_reader = csv.reader(csv_file, delimiter=',')\n",
    "#next(cvs_reader) # it goes to next line directly, only see data not header\n",
    "\n",
    "csbDate = []\n",
    "openPrice = []\n",
    "highPrice = []\n",
    "lowPrice = []\n",
    "closePrice = []\n",
    "adj_closePrice = []\n",
    "volumetraded = []\n",
    "\n",
    "for row in cvs_reader:\n",
    "    date=row[0]\n",
    "    Open=row[1]\n",
    "    high=row[2]\n",
    "    low=row[3]\n",
    "    close=row[4]\n",
    "    volume=row[6]\n",
    "    \n",
    "    \n",
    "    csbDate.append(date)\n",
    "    openPrice.append(Open)\n",
    "    highPrice.append(high)\n",
    "    lowPrice.append(low)\n",
    "    closePrice.append(close)\n",
    "    volumetraded.append(volume)\n",
    "\n",
    "    \n",
    "\n",
    "SPY = csbDate, openPrice, highPrice, lowPrice, closePrice, adj_closePrice, volumetraded\n",
    "print(SPY['csbDate'])\n",
    "    \n",
    "csv_file.close()\n"
   ]
  }
 ],
 "metadata": {
  "kernelspec": {
   "display_name": "Python 3",
   "language": "python",
   "name": "python3"
  },
  "language_info": {
   "codemirror_mode": {
    "name": "ipython",
    "version": 3
   },
   "file_extension": ".py",
   "mimetype": "text/x-python",
   "name": "python",
   "nbconvert_exporter": "python",
   "pygments_lexer": "ipython3",
   "version": "3.7.4"
  }
 },
 "nbformat": 4,
 "nbformat_minor": 2
}
