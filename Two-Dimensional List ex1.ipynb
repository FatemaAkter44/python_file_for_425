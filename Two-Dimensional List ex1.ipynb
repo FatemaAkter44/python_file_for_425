{
 "cells": [
  {
   "cell_type": "code",
   "execution_count": 4,
   "metadata": {},
   "outputs": [],
   "source": [
    "a = [[1, 2, 3, 4], [5, 6, 7, 8], [9,10, 11, 12]] \n"
   ]
  },
  {
   "cell_type": "code",
   "execution_count": 8,
   "metadata": {},
   "outputs": [
    {
     "name": "stdout",
     "output_type": "stream",
     "text": [
      "1 2 3 4 \n",
      "5 6 7 8 \n",
      "9 10 11 12 \n"
     ]
    }
   ],
   "source": [
    "for i in a:\n",
    "    for j in i:\n",
    "        print(j, end = ' ')\n",
    "    print()"
   ]
  },
  {
   "cell_type": "code",
   "execution_count": 7,
   "metadata": {},
   "outputs": [
    {
     "name": "stdout",
     "output_type": "stream",
     "text": [
      "a[0][0]=1  a[0][1]=2  a[0][2]=3  a[0][3]=4  a[1][0]=5  a[1][1]=6  a[1][2]=7  a[1][3]=8  a[2][0]=9  a[2][1]=10  a[2][2]=11  a[2][3]=12  "
     ]
    }
   ],
   "source": [
    "for i, row in enumerate(a):\n",
    "    for j, item in enumerate(row):\n",
    "        print(f'a[{i}][{j}]={item} ', end= ' ') "
   ]
  },
  {
   "cell_type": "code",
   "execution_count": 12,
   "metadata": {},
   "outputs": [
    {
     "name": "stdout",
     "output_type": "stream",
     "text": [
      "[i]: 1\n",
      "[i]: 2\n",
      "[i]: 3\n"
     ]
    }
   ],
   "source": [
    "a=[1, 2, 3]\n",
    "for i, a in enumerate(a):\n",
    "    print (f'[i]: {a}')"
   ]
  },
  {
   "cell_type": "code",
   "execution_count": 15,
   "metadata": {},
   "outputs": [
    {
     "ename": "IndentationError",
     "evalue": "unexpected indent (<ipython-input-15-72eb986fa941>, line 2)",
     "output_type": "error",
     "traceback": [
      "\u001b[1;36m  File \u001b[1;32m\"<ipython-input-15-72eb986fa941>\"\u001b[1;36m, line \u001b[1;32m2\u001b[0m\n\u001b[1;33m    for row in range(len(sales)):\u001b[0m\n\u001b[1;37m    ^\u001b[0m\n\u001b[1;31mIndentationError\u001b[0m\u001b[1;31m:\u001b[0m unexpected indent\n"
     ]
    }
   ],
   "source": [
    "#lebel the element by 2 by 3 list sales\n",
    " for row in range(len(sales)):\n",
    "    for col in range(len[row])):\n",
    "        sales[row][col] = 0"
   ]
  },
  {
   "cell_type": "code",
   "execution_count": null,
   "metadata": {},
   "outputs": [],
   "source": []
  }
 ],
 "metadata": {
  "kernelspec": {
   "display_name": "Python 3",
   "language": "python",
   "name": "python3"
  },
  "language_info": {
   "codemirror_mode": {
    "name": "ipython",
    "version": 3
   },
   "file_extension": ".py",
   "mimetype": "text/x-python",
   "name": "python",
   "nbconvert_exporter": "python",
   "pygments_lexer": "ipython3",
   "version": "3.7.4"
  }
 },
 "nbformat": 4,
 "nbformat_minor": 2
}
