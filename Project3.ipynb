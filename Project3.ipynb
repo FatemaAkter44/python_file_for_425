{
 "cells": [
  {
   "cell_type": "code",
   "execution_count": 1,
   "metadata": {},
   "outputs": [
    {
     "name": "stdout",
     "output_type": "stream",
     "text": [
      "Date Open High Low Close Adj Close Volume\n",
      "2019-03-06 279.149994 279.160004 276.970001 277.329987 276.113770 75039800\n",
      "2019-03-07 276.829987 276.989990 274.070007 275.010010 273.803986 94885100\n",
      "2019-03-08 272.940002 274.649994 272.420013 274.459991 273.256378 85795800\n",
      "2019-03-11 275.260010 278.619995 275.230011 278.440002 277.218933 65098900\n",
      "2019-03-12 279.059998 280.070007 278.850006 279.489990 278.264313 79667500\n",
      "2019-03-13 280.480011 282.380005 280.299988 281.339996 280.106201 80639200\n",
      "2019-03-14 281.369995 281.839996 280.670013 281.160004 279.927002 67518400\n",
      "2019-03-15 280.540009 282.209991 280.329987 281.309998 281.309998 81309000\n",
      "2019-03-18 281.549988 282.660004 281.299988 282.329987 282.329987 62199800\n",
      "2019-03-19 283.510010 284.359985 281.410004 282.399994 282.399994 90268100\n",
      "2019-03-20 282.160004 283.500000 280.320007 281.549988 281.549988 84609200\n",
      "2019-03-21 280.640015 285.179993 280.589996 284.730011 284.730011 79550400\n",
      "2019-03-22 283.220001 283.799988 279.179993 279.250000 279.250000 122659300\n",
      "2019-03-25 278.869995 280.190002 277.640015 279.040009 279.040009 85575200\n",
      "2019-03-26 280.989990 282.179993 279.559998 281.119995 281.119995 68125900\n",
      "2019-03-27 281.109985 281.760010 277.929993 279.649994 279.649994 72224700\n",
      "2019-03-28 280.350006 281.209991 279.070007 280.709991 280.709991 56238500\n",
      "2019-03-29 282.390015 282.839996 281.140015 282.480011 282.480011 82186800\n",
      "2019-04-01 284.700012 286.160004 284.399994 285.829987 285.829987 77617900\n",
      "2019-04-02 286.040009 286.230011 285.089996 285.970001 285.970001 40070400\n",
      "2019-04-03 287.320007 287.760010 285.750000 286.420013 286.420013 68243200\n",
      "2019-04-04 286.779999 287.459991 286.010010 287.179993 287.179993 48898100\n",
      "2019-04-05 287.920013 288.630005 287.600006 288.519989 288.519989 58621729\n"
     ]
    }
   ],
   "source": [
    "#part 1\n",
    "import csv     #help us to splite values \n",
    "\n",
    "csv_file = open('SPY.csv') \n",
    "cvs_reader = csv.reader(csv_file, delimiter=',')\n",
    "#next(cvs_reader) # it goes to next line directly, only see data not header\n",
    "\n",
    "\n",
    "for row in cvs_reader:\n",
    "    Date, Open, High, Low, Close, Adj_Close, Volume = row #save it in diffrent variable\n",
    "    print(Date, Open, High, Low, Close, Adj_Close, Volume)\n",
    "    \n",
    "    \n",
    "csv_file.close()"
   ]
  },
  {
   "cell_type": "code",
   "execution_count": 3,
   "metadata": {},
   "outputs": [
    {
     "name": "stdout",
     "output_type": "stream",
     "text": [
      "{'Date': {'open_price': 'Volume', 'high_price': 'High', 'low_price': 'Low', 'close_price': 'Close', 'volume_traded': 'Adj Close'}, '2019-03-06': {'open_price': '75039800', 'high_price': '279.160004', 'low_price': '276.970001', 'close_price': '277.329987', 'volume_traded': '276.113770'}, '2019-03-07': {'open_price': '94885100', 'high_price': '276.989990', 'low_price': '274.070007', 'close_price': '275.010010', 'volume_traded': '273.803986'}, '2019-03-08': {'open_price': '85795800', 'high_price': '274.649994', 'low_price': '272.420013', 'close_price': '274.459991', 'volume_traded': '273.256378'}, '2019-03-11': {'open_price': '65098900', 'high_price': '278.619995', 'low_price': '275.230011', 'close_price': '278.440002', 'volume_traded': '277.218933'}, '2019-03-12': {'open_price': '79667500', 'high_price': '280.070007', 'low_price': '278.850006', 'close_price': '279.489990', 'volume_traded': '278.264313'}, '2019-03-13': {'open_price': '80639200', 'high_price': '282.380005', 'low_price': '280.299988', 'close_price': '281.339996', 'volume_traded': '280.106201'}, '2019-03-14': {'open_price': '67518400', 'high_price': '281.839996', 'low_price': '280.670013', 'close_price': '281.160004', 'volume_traded': '279.927002'}, '2019-03-15': {'open_price': '81309000', 'high_price': '282.209991', 'low_price': '280.329987', 'close_price': '281.309998', 'volume_traded': '281.309998'}, '2019-03-18': {'open_price': '62199800', 'high_price': '282.660004', 'low_price': '281.299988', 'close_price': '282.329987', 'volume_traded': '282.329987'}, '2019-03-19': {'open_price': '90268100', 'high_price': '284.359985', 'low_price': '281.410004', 'close_price': '282.399994', 'volume_traded': '282.399994'}, '2019-03-20': {'open_price': '84609200', 'high_price': '283.500000', 'low_price': '280.320007', 'close_price': '281.549988', 'volume_traded': '281.549988'}, '2019-03-21': {'open_price': '79550400', 'high_price': '285.179993', 'low_price': '280.589996', 'close_price': '284.730011', 'volume_traded': '284.730011'}, '2019-03-22': {'open_price': '122659300', 'high_price': '283.799988', 'low_price': '279.179993', 'close_price': '279.250000', 'volume_traded': '279.250000'}, '2019-03-25': {'open_price': '85575200', 'high_price': '280.190002', 'low_price': '277.640015', 'close_price': '279.040009', 'volume_traded': '279.040009'}, '2019-03-26': {'open_price': '68125900', 'high_price': '282.179993', 'low_price': '279.559998', 'close_price': '281.119995', 'volume_traded': '281.119995'}, '2019-03-27': {'open_price': '72224700', 'high_price': '281.760010', 'low_price': '277.929993', 'close_price': '279.649994', 'volume_traded': '279.649994'}, '2019-03-28': {'open_price': '56238500', 'high_price': '281.209991', 'low_price': '279.070007', 'close_price': '280.709991', 'volume_traded': '280.709991'}, '2019-03-29': {'open_price': '82186800', 'high_price': '282.839996', 'low_price': '281.140015', 'close_price': '282.480011', 'volume_traded': '282.480011'}, '2019-04-01': {'open_price': '77617900', 'high_price': '286.160004', 'low_price': '284.399994', 'close_price': '285.829987', 'volume_traded': '285.829987'}, '2019-04-02': {'open_price': '40070400', 'high_price': '286.230011', 'low_price': '285.089996', 'close_price': '285.970001', 'volume_traded': '285.970001'}, '2019-04-03': {'open_price': '68243200', 'high_price': '287.760010', 'low_price': '285.750000', 'close_price': '286.420013', 'volume_traded': '286.420013'}, '2019-04-04': {'open_price': '48898100', 'high_price': '287.459991', 'low_price': '286.010010', 'close_price': '287.179993', 'volume_traded': '287.179993'}, '2019-04-05': {'open_price': '58621729', 'high_price': '288.630005', 'low_price': '287.600006', 'close_price': '288.519989', 'volume_traded': '288.519989'}}\n"
     ]
    }
   ],
   "source": [
    "#part2\n",
    "\n",
    "import csv     #help us to splite values \n",
    "\n",
    "csv_file = open('SPY.csv', 'r') \n",
    "cvs_reader = csv.reader(csv_file, delimiter=',')\n",
    "dates = {}\n",
    "\n",
    "for row in cvs_reader:\n",
    "    dates[row[0]] = {'open_price':row[1], 'high_price':row[2], 'low_price':row[3], 'close_price':row[4], 'volume_traded':row[5], 'open_price':row[6],}\n",
    "\n",
    "    \n",
    "print(dates)   \n",
    "\n",
    "\n",
    "#a=input(\"Which date inforformation do you want to find? \")\n",
    "\n",
    "#if a in dates:\n",
    "    #print(dates[open_price][high_price][low_price][close_price][volume_traded][open_price])\n",
    "\n",
    "\n"
   ]
  },
  {
   "cell_type": "code",
   "execution_count": null,
   "metadata": {},
   "outputs": [],
   "source": [
    "#part3\n",
    "import csv     #help us to splite values \n",
    "\n",
    "csv_file = open('SPY.csv', 'w', newline='')\n",
    "fildname = ['PriceChange']\n",
    "thewriter = csv.DictWriter(csv_file)\n",
    "\n"
   ]
  },
  {
   "cell_type": "code",
   "execution_count": null,
   "metadata": {},
   "outputs": [],
   "source": []
  }
 ],
 "metadata": {
  "kernelspec": {
   "display_name": "Python 3",
   "language": "python",
   "name": "python3"
  },
  "language_info": {
   "codemirror_mode": {
    "name": "ipython",
    "version": 3
   },
   "file_extension": ".py",
   "mimetype": "text/x-python",
   "name": "python",
   "nbconvert_exporter": "python",
   "pygments_lexer": "ipython3",
   "version": "3.7.4"
  }
 },
 "nbformat": 4,
 "nbformat_minor": 2
}
