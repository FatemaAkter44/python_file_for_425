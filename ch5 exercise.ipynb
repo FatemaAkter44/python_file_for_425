{
 "cells": [
  {
   "cell_type": "code",
   "execution_count": null,
   "metadata": {},
   "outputs": [],
   "source": [
    "#lists = []\n",
    "#for number in range (1, 6):\n",
    "   # lists +=[number]\n",
    "    \n",
    "#lists = [1,2,3,4,5]  \n",
    "lists = ['red', 'blue']\n",
    "list(enumerate(lists)) "
   ]
  },
  {
   "cell_type": "code",
   "execution_count": null,
   "metadata": {},
   "outputs": [],
   "source": [
    "a= [10,20,30]\n",
    "b=[40, 50]\n",
    "c = a+b\n"
   ]
  },
  {
   "cell_type": "code",
   "execution_count": null,
   "metadata": {},
   "outputs": [],
   "source": [
    "a= [10,20,30]\n",
    "b=[40, 50]\n",
    "c = a+b\n",
    "for i in range(len(c)):\n",
    "    print(f'{i}: {c[i]}')"
   ]
  },
  {
   "cell_type": "code",
   "execution_count": null,
   "metadata": {},
   "outputs": [],
   "source": [
    "a=[10,20]"
   ]
  },
  {
   "cell_type": "code",
   "execution_count": null,
   "metadata": {},
   "outputs": [],
   "source": [
    "b=[10,20]"
   ]
  },
  {
   "cell_type": "code",
   "execution_count": null,
   "metadata": {},
   "outputs": [],
   "source": [
    "c=[20,30]"
   ]
  },
  {
   "cell_type": "code",
   "execution_count": null,
   "metadata": {},
   "outputs": [],
   "source": [
    "a==b"
   ]
  },
  {
   "cell_type": "code",
   "execution_count": null,
   "metadata": {},
   "outputs": [],
   "source": [
    "a==c"
   ]
  },
  {
   "cell_type": "code",
   "execution_count": null,
   "metadata": {},
   "outputs": [],
   "source": []
  },
  {
   "cell_type": "code",
   "execution_count": null,
   "metadata": {},
   "outputs": [],
   "source": [
    "a<=b"
   ]
  },
  {
   "cell_type": "code",
   "execution_count": null,
   "metadata": {},
   "outputs": [],
   "source": [
    "# create a function cubelist that cubes each element of a list(1 to 100). call the function and display values.\n",
    "\n",
    "def cube_list(values):\n",
    "    for i in range(len(values)):\n",
    "        values[i]**= 3\n",
    "\n",
    "\n",
    "\n",
    "lists=[]\n",
    "for j in range(1, 10):\n",
    "    lists += [j]\n",
    "\n",
    "#lists = [10 , 20, 30]\n",
    "\n",
    "cube_list(lists)\n",
    "lists\n",
    "\n",
    "    "
   ]
  },
  {
   "cell_type": "code",
   "execution_count": null,
   "metadata": {},
   "outputs": [],
   "source": [
    "letters = []\n",
    "letters += 'i love you mom'\n",
    "letters"
   ]
  },
  {
   "cell_type": "code",
   "execution_count": null,
   "metadata": {},
   "outputs": [],
   "source": [
    "student_tuples1 = ('ayesha', 6, 'girl', 'prek4')\n",
    "student_tuples2= ('mahdi', 3, 'boy', 'prek4')\n",
    "\n",
    "#tudent_tuples1 += ('201 ocean parkway')\n",
    "\n",
    "\n",
    "student_tuples1 += (40, 43)\n",
    "\n",
    "student_tuples1\n",
    "\n",
    "student_tuples2 += ('oceanparkway', '3i')\n",
    "\n",
    "student_tuples2 +=  ([0,50])"
   ]
  },
  {
   "cell_type": "code",
   "execution_count": null,
   "metadata": {},
   "outputs": [],
   "source": []
  },
  {
   "cell_type": "code",
   "execution_count": null,
   "metadata": {},
   "outputs": [],
   "source": [
    "student1 = ('fatema', 'akter', [90, 93, 99, 100])\n",
    "firstname, lastname, grades = student1\n",
    "grades\n",
    "\n",
    "tuple(enumerate(student1)) #it will print values with index\n",
    "\n",
    "for index, valus in enumerate(student1): # saparete by each index and values\n",
    "    print(f'{index}: {valus}')\n"
   ]
  },
  {
   "cell_type": "code",
   "execution_count": null,
   "metadata": {},
   "outputs": [],
   "source": [
    "lists = [1,2,3,4,5] \n",
    "print('\\ncreating a bar chart from numbers.')\n",
    "print('\\n')\n",
    "print(f'index {\"value\":>10}    Bar')\n",
    "\n",
    "for index, value in enumerate(lists):\n",
    "      print(f'{index:>3} {value:>10}       {\"*\" * value}')\n",
    "      \n",
    "      "
   ]
  },
  {
   "cell_type": "code",
   "execution_count": null,
   "metadata": {},
   "outputs": [],
   "source": [
    "#equence slicing\n",
    "x = [1, 2, 3, 5, 7, 8, 10, 11, 12, 4, 6, 7, 10, 15, 56]\n",
    "len(x)"
   ]
  },
  {
   "cell_type": "code",
   "execution_count": null,
   "metadata": {},
   "outputs": [],
   "source": [
    "x = [1, 2, 3, 5, 7, 8, 10, 11, 12, 4, 6, 7, 10, 15, 56]\n",
    "x[-1]\n",
    "x[7:15]\n",
    "x[::2]\n",
    "x[::3]\n",
    "x[::5]\n",
    "x[::-1]\n",
    "x[::2] = [100,100, 100, 100, 100, 100, 100, 100]\n",
    "id(x)"
   ]
  },
  {
   "cell_type": "code",
   "execution_count": 12,
   "metadata": {},
   "outputs": [
    {
     "data": {
      "text/plain": [
       "[]"
      ]
     },
     "execution_count": 12,
     "metadata": {},
     "output_type": "execute_result"
    }
   ],
   "source": [
    "numbers = [1, 2, 3, 4, 5, 6, 7, 8, 9, 10, 11, 12, 13, 14, 15]\n",
    "numbers[1:len(numbers):2] #even integers\n",
    "numbers[5:10] = [0] * len(numbers[5:10]) # replace 5 through 10 with 0\n",
    "numbers[5:] = [] # show only first\n",
    "numbers\n",
    "numbers[:] = [] # clear the list\n",
    "numbers"
   ]
  },
  {
   "cell_type": "code",
   "execution_count": null,
   "metadata": {},
   "outputs": [],
   "source": []
  }
 ],
 "metadata": {
  "kernelspec": {
   "display_name": "Python 3",
   "language": "python",
   "name": "python3"
  },
  "language_info": {
   "codemirror_mode": {
    "name": "ipython",
    "version": 3
   },
   "file_extension": ".py",
   "mimetype": "text/x-python",
   "name": "python",
   "nbconvert_exporter": "python",
   "pygments_lexer": "ipython3",
   "version": "3.7.4"
  }
 },
 "nbformat": 4,
 "nbformat_minor": 2
}
