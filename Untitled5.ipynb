{
 "cells": [
  {
   "cell_type": "code",
   "execution_count": 1,
   "metadata": {},
   "outputs": [],
   "source": [
    "import numpy as np\n",
    "import pandas as pd\n"
   ]
  },
  {
   "cell_type": "code",
   "execution_count": 2,
   "metadata": {},
   "outputs": [
    {
     "data": {
      "text/plain": [
       "array([[-1.42629601,  0.46040652,  0.76274773,  0.29848141, -0.51483688],\n",
       "       [-0.62079912,  0.73250102, -0.75937087,  1.40379561,  1.11386396],\n",
       "       [ 0.82792631,  0.44768323, -0.71569753, -0.07250628,  0.06843166],\n",
       "       [-0.43764279,  0.0824994 ,  0.47443104, -0.36275409,  0.23396702],\n",
       "       [ 0.30023993,  0.91495612,  0.01728939,  0.96858015, -2.61073942]])"
      ]
     },
     "execution_count": 2,
     "metadata": {},
     "output_type": "execute_result"
    }
   ],
   "source": [
    "arr = np.random.standard_normal((5,5))\n",
    "arr"
   ]
  },
  {
   "cell_type": "code",
   "execution_count": 3,
   "metadata": {},
   "outputs": [],
   "source": [
    "df = pd.DataFrame(arr)"
   ]
  },
  {
   "cell_type": "code",
   "execution_count": 4,
   "metadata": {},
   "outputs": [
    {
     "data": {
      "text/html": [
       "<div>\n",
       "<style scoped>\n",
       "    .dataframe tbody tr th:only-of-type {\n",
       "        vertical-align: middle;\n",
       "    }\n",
       "\n",
       "    .dataframe tbody tr th {\n",
       "        vertical-align: top;\n",
       "    }\n",
       "\n",
       "    .dataframe thead th {\n",
       "        text-align: right;\n",
       "    }\n",
       "</style>\n",
       "<table border=\"1\" class=\"dataframe\">\n",
       "  <thead>\n",
       "    <tr style=\"text-align: right;\">\n",
       "      <th></th>\n",
       "      <th>0</th>\n",
       "      <th>1</th>\n",
       "      <th>2</th>\n",
       "      <th>3</th>\n",
       "      <th>4</th>\n",
       "    </tr>\n",
       "  </thead>\n",
       "  <tbody>\n",
       "    <tr>\n",
       "      <td>0</td>\n",
       "      <td>-1.426296</td>\n",
       "      <td>0.460407</td>\n",
       "      <td>0.762748</td>\n",
       "      <td>0.298481</td>\n",
       "      <td>-0.514837</td>\n",
       "    </tr>\n",
       "    <tr>\n",
       "      <td>1</td>\n",
       "      <td>-0.620799</td>\n",
       "      <td>0.732501</td>\n",
       "      <td>-0.759371</td>\n",
       "      <td>1.403796</td>\n",
       "      <td>1.113864</td>\n",
       "    </tr>\n",
       "    <tr>\n",
       "      <td>2</td>\n",
       "      <td>0.827926</td>\n",
       "      <td>0.447683</td>\n",
       "      <td>-0.715698</td>\n",
       "      <td>-0.072506</td>\n",
       "      <td>0.068432</td>\n",
       "    </tr>\n",
       "    <tr>\n",
       "      <td>3</td>\n",
       "      <td>-0.437643</td>\n",
       "      <td>0.082499</td>\n",
       "      <td>0.474431</td>\n",
       "      <td>-0.362754</td>\n",
       "      <td>0.233967</td>\n",
       "    </tr>\n",
       "    <tr>\n",
       "      <td>4</td>\n",
       "      <td>0.300240</td>\n",
       "      <td>0.914956</td>\n",
       "      <td>0.017289</td>\n",
       "      <td>0.968580</td>\n",
       "      <td>-2.610739</td>\n",
       "    </tr>\n",
       "  </tbody>\n",
       "</table>\n",
       "</div>"
      ],
      "text/plain": [
       "          0         1         2         3         4\n",
       "0 -1.426296  0.460407  0.762748  0.298481 -0.514837\n",
       "1 -0.620799  0.732501 -0.759371  1.403796  1.113864\n",
       "2  0.827926  0.447683 -0.715698 -0.072506  0.068432\n",
       "3 -0.437643  0.082499  0.474431 -0.362754  0.233967\n",
       "4  0.300240  0.914956  0.017289  0.968580 -2.610739"
      ]
     },
     "execution_count": 4,
     "metadata": {},
     "output_type": "execute_result"
    }
   ],
   "source": [
    "df"
   ]
  },
  {
   "cell_type": "code",
   "execution_count": null,
   "metadata": {},
   "outputs": [],
   "source": []
  }
 ],
 "metadata": {
  "kernelspec": {
   "display_name": "Python 3",
   "language": "python",
   "name": "python3"
  },
  "language_info": {
   "codemirror_mode": {
    "name": "ipython",
    "version": 3
   },
   "file_extension": ".py",
   "mimetype": "text/x-python",
   "name": "python",
   "nbconvert_exporter": "python",
   "pygments_lexer": "ipython3",
   "version": "3.7.4"
  }
 },
 "nbformat": 4,
 "nbformat_minor": 2
}
