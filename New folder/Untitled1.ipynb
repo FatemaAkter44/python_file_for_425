{
 "cells": [
  {
   "cell_type": "code",
   "execution_count": null,
   "metadata": {},
   "outputs": [],
   "source": [
    "\n",
    "input_count = 0\n",
    "while True:\n",
    "    serise_of_number = input ('''Enter our deire numbers. Enter \"end\" to stop entering process: ''')\n",
    "    if serise_of_number == \"end\":\n",
    "        print (\"total numbers of input: \")\n",
    "        print (\"sum of numbers of input: \")\n",
    "        print (\"average numbers of input: \")\n",
    "        print (\"smallest numbers of input: \")\n",
    "        print (\"largest numbers of input:  \")\n",
    "        print (\"median of the numbers of input:\")\n",
    "        print (\"standard daviation of numbers of input: \")\n",
    "    else:\n",
    "             serise_of_number = input ('''Enter our deire numbers. Enter \"end\" to stop entering process: ''')  "
   ]
  },
  {
   "cell_type": "code",
   "execution_count": null,
   "metadata": {},
   "outputs": [],
   "source": [
    "\n",
    "input_count = 0\n",
    "while True:\n",
    "    serise_of_number = input ('''Enter our deire numbers. Enter \"end\" to stop entering process: ''')\n",
    "    if serise_of_number == \"end\":\n",
    "        print (\"total numbers of input: \")\n",
    "        print (\"sum of numbers of input: \")\n",
    "        print (\"average numbers of input: \")\n",
    "        print (\"smallest numbers of input: \")\n",
    "        print (\"largest numbers of input:  \")\n",
    "        print (\"median of the numbers of input:\")\n",
    "        print (\"standard daviation of numbers of input: \")\n",
    "    else:\n",
    "             serise_of_number = input ('''Enter our deire numbers. Enter \"end\" to stop entering process: ''')"
   ]
  },
  {
   "cell_type": "code",
   "execution_count": null,
   "metadata": {},
   "outputs": [],
   "source": []
  }
 ],
 "metadata": {
  "kernelspec": {
   "display_name": "Python 3",
   "language": "python",
   "name": "python3"
  },
  "language_info": {
   "codemirror_mode": {
    "name": "ipython",
    "version": 3
   },
   "file_extension": ".py",
   "mimetype": "text/x-python",
   "name": "python",
   "nbconvert_exporter": "python",
   "pygments_lexer": "ipython3",
   "version": "3.7.4"
  }
 },
 "nbformat": 4,
 "nbformat_minor": 2
}
