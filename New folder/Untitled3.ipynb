{
 "cells": [
  {
   "cell_type": "code",
   "execution_count": null,
   "metadata": {},
   "outputs": [
    {
     "name": "stdout",
     "output_type": "stream",
     "text": [
      "enter your grade: 12\n"
     ]
    }
   ],
   "source": [
    "total = 0\n",
    "gradeCounter = 0\n",
    "grade = int(input(\"enter your grade: \"))\n",
    "while grade != -1:\n",
    "    total += grade\n",
    "    gradeCounter += 1  \n",
    "    \n",
    "if gradeCounter != 0:\n",
    "    average = total / gradeCounter\n",
    "    print (f'class average is {average:.2f}')\n",
    "else:\n",
    "    print(\"invalid entry.\")"
   ]
  },
  {
   "cell_type": "code",
   "execution_count": null,
   "metadata": {},
   "outputs": [],
   "source": [
    "passed =0\n",
    "failed= 0\n",
    "for students in range (10)\n",
    "    result = int(input('enter result ( 1=pass, 2=fail): '))\n",
    "    if result ==1:\n",
    "        passed = passed+1\n",
    "    else:\n",
    "        failed = failed+1\n",
    "print('passed', passed)\n",
    "print ('failed', failed)\n",
    "if passed > 8:\n",
    "    print ('get bonus')\n",
    "\n"
   ]
  },
  {
   "cell_type": "code",
   "execution_count": null,
   "metadata": {},
   "outputs": [],
   "source": []
  }
 ],
 "metadata": {
  "kernelspec": {
   "display_name": "Python 3",
   "language": "python",
   "name": "python3"
  },
  "language_info": {
   "codemirror_mode": {
    "name": "ipython",
    "version": 3
   },
   "file_extension": ".py",
   "mimetype": "text/x-python",
   "name": "python",
   "nbconvert_exporter": "python",
   "pygments_lexer": "ipython3",
   "version": "3.7.4"
  }
 },
 "nbformat": 4,
 "nbformat_minor": 2
}
