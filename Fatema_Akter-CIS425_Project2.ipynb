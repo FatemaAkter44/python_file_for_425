{
 "cells": [
  {
   "cell_type": "code",
   "execution_count": 68,
   "metadata": {
    "scrolled": true
   },
   "outputs": [
    {
     "name": "stdout",
     "output_type": "stream",
     "text": [
      "part1: data.txt file has created\n",
      "\n",
      "\n",
      "part2 answer: \n",
      " If this happens then that happens that is not good\n",
      "\n",
      "\n",
      "part3 answer: \n",
      " ['If', 'this', 'happens', 'then', 'that', 'happens', 'that', 'is', 'not', 'good']\n",
      "\n",
      "\n",
      "part4 answer'sortedword': \n",
      " ['If', 'good', 'happens', 'happens', 'is', 'not', 'that', 'that', 'then', 'this']\n",
      "\n",
      "\n",
      "part5 answer 'uniqueWordList': \n",
      " ['good', 'happens', 'is', 'not', 'that', 'then', 'this', '', '\\n']\n"
     ]
    }
   ],
   "source": [
    "m={}\n",
    "#part 1) Write a program that writes an external file called, \"data.txt\", that contains the following:\n",
    "#\"If this happens, then that happens that is not good.\"\n",
    "\n",
    "textFile = open(\"data.txt\", 'w')\n",
    "textFile.write(\"If this happens, then that happens that is not good.\")\n",
    "textFile.close()\n",
    "print(\"part1: data.txt file has created\\n\")\n",
    "\n",
    "# part 2) Write a program that inputs \"data.txt.\"\n",
    "textFile = open(\"data.txt\", 'r')\n",
    "    \n",
    "for line in textFile.readlines():\n",
    "    removeComma = str.maketrans(\",.\" , 2*\" \")\n",
    "    lineWithoutComma=line.translate(removeComma)\n",
    "   \n",
    "    removeDaubleSpace= lineWithoutComma.replace(\"  \",\" \") #will replace double comma into single comma\n",
    "    removeLastspace = removeDaubleSpace.strip()\n",
    "    print(\"\\npart2 answer: \\n\" , removeLastspace)\n",
    "    \n",
    "    \n",
    "#Part 3) Split each word contained in data.txt, and put them into a list.\n",
    "#import numpy as np\n",
    "\n",
    "wordList = removeLastspace.split(' ')\n",
    "print(\"\\n\\npart3 answer: \\n\" , wordList)\n",
    "\n",
    "\n",
    "#Part 4) Write a program that creates a list called, \"sortedWord\" \n",
    "#that sorts the words in the list in Part 3 in alphabetical order.\n",
    "\n",
    "sortedWord = sorted(wordList)\n",
    "print(\"\\n\\npart4 answer'sortedword': \\n\" , sortedWord)\n",
    "\n",
    "#Part 5) Write a program that creates a list called, \"uniqueWordList\" \n",
    "#that contains unique words without repetition.\n",
    "for i in sortedWord:\n",
    "    wordsList.append(i)\n",
    "for j in  wordsList:\n",
    "    if j not in uniqueWordList:\n",
    "        uniqueWordList.append(j)\n",
    "        \n",
    "#print( uniqueWordList)\n",
    "\n",
    "m = uniqueWordList\n",
    "del m[0:1]\n",
    "print(\"\\n\\npart5 answer 'uniqueWordList': \\n\" , m)\n",
    "\n",
    "\n",
    "\n",
    "textFile.close()"
   ]
  },
  {
   "cell_type": "code",
   "execution_count": null,
   "metadata": {},
   "outputs": [],
   "source": []
  }
 ],
 "metadata": {
  "kernelspec": {
   "display_name": "Python 3",
   "language": "python",
   "name": "python3"
  },
  "language_info": {
   "codemirror_mode": {
    "name": "ipython",
    "version": 3
   },
   "file_extension": ".py",
   "mimetype": "text/x-python",
   "name": "python",
   "nbconvert_exporter": "python",
   "pygments_lexer": "ipython3",
   "version": "3.7.4"
  }
 },
 "nbformat": 4,
 "nbformat_minor": 2
}
