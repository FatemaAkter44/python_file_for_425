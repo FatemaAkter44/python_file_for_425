{
 "cells": [
  {
   "cell_type": "code",
   "execution_count": 26,
   "metadata": {},
   "outputs": [
    {
     "name": "stdout",
     "output_type": "stream",
     "text": [
      "Face    Frequency\n",
      "   1       999870\n",
      "   2       999629\n",
      "   3       999619\n",
      "   4      1001159\n",
      "   5      1001344\n",
      "   6       998379\n"
     ]
    }
   ],
   "source": [
    "import random\n",
    "\n",
    "frequency1 = 0 #this line will count nowmany time 1 will show, so we count from 0. \n",
    "frequency2 = 0\n",
    "frequency3 = 0\n",
    "frequency4 = 0\n",
    "frequency5 = 0\n",
    "frequency6 = 0 #this line will count nowmany time 1 will show, so we count from 0. \n",
    "\n",
    "for roll in range(6_000_000):  # we are rolling a die 6000000 time.\n",
    "    face = random.randrange(1, 7)\n",
    "    \n",
    "    if face ==1:\n",
    "        frequency1 += 1\n",
    "    elif face == 2:\n",
    "        frequency2 +=1\n",
    "    elif face == 3:\n",
    "        frequency3 +=1\n",
    "    elif face == 4:\n",
    "        frequency4 +=1\n",
    "    elif face == 5:\n",
    "        frequency5 +=1\n",
    "    elif face == 6:\n",
    "        frequency6 +=1\n",
    "        \n",
    "print(f'Face{\"Frequency\":>13}')\n",
    "print(f'{1:>4}{frequency1:>13}')\n",
    "print(f'{2:>4}{frequency2:>13}')\n",
    "print(f'{3:>4}{frequency3:>13}')\n",
    "print(f'{4:>4}{frequency4:>13}')\n",
    "print(f'{5:>4}{frequency5:>13}')\n",
    "print(f'{6:>4}{frequency6:>13}')\n",
    "      "
   ]
  },
  {
   "cell_type": "code",
   "execution_count": 41,
   "metadata": {},
   "outputs": [
    {
     "name": "stdout",
     "output_type": "stream",
     "text": [
      "Side           Number_of_occurence\n",
      "1                  10\n",
      "2                   0\n"
     ]
    }
   ],
   "source": [
    "  "
   ]
  }
 ],
 "metadata": {
  "kernelspec": {
   "display_name": "Python 3",
   "language": "python",
   "name": "python3"
  },
  "language_info": {
   "codemirror_mode": {
    "name": "ipython",
    "version": 3
   },
   "file_extension": ".py",
   "mimetype": "text/x-python",
   "name": "python",
   "nbconvert_exporter": "python",
   "pygments_lexer": "ipython3",
   "version": "3.7.4"
  }
 },
 "nbformat": 4,
 "nbformat_minor": 2
}
