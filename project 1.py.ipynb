{
 "cells": [
  {
   "cell_type": "code",
   "execution_count": null,
   "metadata": {},
   "outputs": [],
   "source": [
    "thesum = 0\n",
    "n = 0\n",
    "A = True\n",
    "Lnum= 0\n",
    "Snum = 0\n",
    "\n",
    "while A:\n",
    "    number = input(\"enter a number or press \\'N\\' to quit : \")\n",
    "    if number == \"N\":\n",
    "        break\n",
    "    else:\n",
    "        n = n+1\n",
    "        thesum = thesum + float(number)\n",
    "        \n",
    "        if (float(number)>Lnum):\n",
    "            Lnum = float(number)\n",
    "            \n",
    "            if (float(number)>Snum):\n",
    "                Snum = float(number)\n",
    "            \n",
    "    print(\"Total number of entries: \", n, \"\\nTotal sum of numbers: \", thesum, \"\\nLargest Number : \", Lnum,\n",
    "         \"\\nSmallest Number: \", Snum, \"\\nAverage: \", thesum/n)\n"
   ]
  }
 ],
 "metadata": {
  "kernelspec": {
   "display_name": "Python 3",
   "language": "python",
   "name": "python3"
  },
  "language_info": {
   "codemirror_mode": {
    "name": "ipython",
    "version": 3
   },
   "file_extension": ".py",
   "mimetype": "text/x-python",
   "name": "python",
   "nbconvert_exporter": "python",
   "pygments_lexer": "ipython3",
   "version": "3.7.4"
  }
 },
 "nbformat": 4,
 "nbformat_minor": 2
}
