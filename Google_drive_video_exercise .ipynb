{
 "cells": [
  {
   "cell_type": "code",
   "execution_count": 4,
   "metadata": {},
   "outputs": [],
   "source": [
    "import pandas as pd"
   ]
  },
  {
   "cell_type": "code",
   "execution_count": null,
   "metadata": {},
   "outputs": [],
   "source": [
    "import "
   ]
  },
  {
   "cell_type": "code",
   "execution_count": 7,
   "metadata": {},
   "outputs": [
    {
     "data": {
      "text/html": [
       "<div>\n",
       "<style scoped>\n",
       "    .dataframe tbody tr th:only-of-type {\n",
       "        vertical-align: middle;\n",
       "    }\n",
       "\n",
       "    .dataframe tbody tr th {\n",
       "        vertical-align: top;\n",
       "    }\n",
       "\n",
       "    .dataframe thead th {\n",
       "        text-align: right;\n",
       "    }\n",
       "</style>\n",
       "<table border=\"1\" class=\"dataframe\">\n",
       "  <thead>\n",
       "    <tr style=\"text-align: right;\">\n",
       "      <th></th>\n",
       "      <th>Date</th>\n",
       "      <th>Open</th>\n",
       "      <th>High</th>\n",
       "      <th>Low</th>\n",
       "      <th>Close</th>\n",
       "      <th>Adj Close</th>\n",
       "      <th>Volume</th>\n",
       "    </tr>\n",
       "  </thead>\n",
       "  <tbody>\n",
       "    <tr>\n",
       "      <td>0</td>\n",
       "      <td>2015-05-15</td>\n",
       "      <td>428.000000</td>\n",
       "      <td>430.399994</td>\n",
       "      <td>424.299988</td>\n",
       "      <td>426.000000</td>\n",
       "      <td>426.000000</td>\n",
       "      <td>4240300</td>\n",
       "    </tr>\n",
       "    <tr>\n",
       "      <td>1</td>\n",
       "      <td>2015-05-18</td>\n",
       "      <td>426.000000</td>\n",
       "      <td>427.269989</td>\n",
       "      <td>421.459991</td>\n",
       "      <td>425.239990</td>\n",
       "      <td>425.239990</td>\n",
       "      <td>2390200</td>\n",
       "    </tr>\n",
       "    <tr>\n",
       "      <td>2</td>\n",
       "      <td>2015-05-19</td>\n",
       "      <td>424.869995</td>\n",
       "      <td>428.239990</td>\n",
       "      <td>420.630005</td>\n",
       "      <td>421.709991</td>\n",
       "      <td>421.709991</td>\n",
       "      <td>2464200</td>\n",
       "    </tr>\n",
       "    <tr>\n",
       "      <td>3</td>\n",
       "      <td>2015-05-20</td>\n",
       "      <td>420.600006</td>\n",
       "      <td>427.100006</td>\n",
       "      <td>418.359985</td>\n",
       "      <td>423.859985</td>\n",
       "      <td>423.859985</td>\n",
       "      <td>2196200</td>\n",
       "    </tr>\n",
       "    <tr>\n",
       "      <td>4</td>\n",
       "      <td>2015-05-21</td>\n",
       "      <td>428.000000</td>\n",
       "      <td>436.899994</td>\n",
       "      <td>428.000000</td>\n",
       "      <td>431.630005</td>\n",
       "      <td>431.630005</td>\n",
       "      <td>4121400</td>\n",
       "    </tr>\n",
       "  </tbody>\n",
       "</table>\n",
       "</div>"
      ],
      "text/plain": [
       "        Date        Open        High         Low       Close   Adj Close  \\\n",
       "0 2015-05-15  428.000000  430.399994  424.299988  426.000000  426.000000   \n",
       "1 2015-05-18  426.000000  427.269989  421.459991  425.239990  425.239990   \n",
       "2 2015-05-19  424.869995  428.239990  420.630005  421.709991  421.709991   \n",
       "3 2015-05-20  420.600006  427.100006  418.359985  423.859985  423.859985   \n",
       "4 2015-05-21  428.000000  436.899994  428.000000  431.630005  431.630005   \n",
       "\n",
       "    Volume  \n",
       "0  4240300  \n",
       "1  2390200  \n",
       "2  2464200  \n",
       "3  2196200  \n",
       "4  4121400  "
      ]
     },
     "execution_count": 7,
     "metadata": {},
     "output_type": "execute_result"
    }
   ],
   "source": [
    "amazon = pd.read_excel('yahooFinance.xls').head()\n",
    "amazon"
   ]
  },
  {
   "cell_type": "code",
   "execution_count": null,
   "metadata": {},
   "outputs": [],
   "source": []
  }
 ],
 "metadata": {
  "kernelspec": {
   "display_name": "Python 3",
   "language": "python",
   "name": "python3"
  },
  "language_info": {
   "codemirror_mode": {
    "name": "ipython",
    "version": 3
   },
   "file_extension": ".py",
   "mimetype": "text/x-python",
   "name": "python",
   "nbconvert_exporter": "python",
   "pygments_lexer": "ipython3",
   "version": "3.7.4"
  }
 },
 "nbformat": 4,
 "nbformat_minor": 2
}
