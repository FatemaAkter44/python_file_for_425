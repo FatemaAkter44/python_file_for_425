{
 "cells": [
  {
   "cell_type": "code",
   "execution_count": 2,
   "metadata": {},
   "outputs": [
    {
     "name": "stdout",
     "output_type": "stream",
     "text": [
      "enter your text: python\n",
      "Enter your key3\n",
      "sbwkrq\n"
     ]
    }
   ],
   "source": []
  },
  {
   "cell_type": "code",
   "execution_count": 7,
   "metadata": {},
   "outputs": [
    {
     "name": "stdout",
     "output_type": "stream",
     "text": [
      "encrypted text:  sbwkrq\n"
     ]
    }
   ],
   "source": [
    "alphabets = 'abcdefghijklmnopqrstuvwxyz'\n",
    "\n",
    "\n",
    "\n",
    "user_input = \"python\"\n",
    "distance_value = 3\n",
    "n=len(user_input)\n",
    "encrypted_output = ''\n",
    "for i in range(n):\n",
    "    character = user_input[i]\n",
    "    bigining_location = alphabets.find(character)\n",
    "    new_location = (bigining_location + distance_value) % 26\n",
    "    encrypted_output += alphabets[new_location]\n",
    "print(\"encrypted text: \", encrypted_output)\n"
   ]
  },
  {
   "cell_type": "code",
   "execution_count": null,
   "metadata": {},
   "outputs": [],
   "source": [
    "user_input = \"hacker\"\n",
    "distance_value = 3\n",
    "n=len(user_input)\n",
    "encrypted_output = ''\n",
    "for i in range(n):\n",
    "    character = user_input[i]\n",
    "    bigining_location = alphabets.find(character)\n",
    "    new_location = (bigining_location + distance_value) % 26\n",
    "    encrypted_output += alphabets[new_location]\n",
    "print(\"encrypted text: \", encrypted_output)\n"
   ]
  },
  {
   "cell_type": "code",
   "execution_count": 8,
   "metadata": {},
   "outputs": [
    {
     "name": "stdout",
     "output_type": "stream",
     "text": [
      "encrypted text:  zrz\n"
     ]
    }
   ],
   "source": [
    "user_input = \"wow\"\n",
    "distance_value = 3\n",
    "n=len(user_input)\n",
    "encrypted_output = ''\n",
    "for i in range(n):\n",
    "    character = user_input[i]\n",
    "    bigining_location = alphabets.find(character)\n",
    "    new_location = (bigining_location + distance_value) % 26\n",
    "    encrypted_output += alphabets[new_location]\n",
    "print(\"encrypted text: \", encrypted_output)"
   ]
  },
  {
   "cell_type": "code",
   "execution_count": 6,
   "metadata": {},
   "outputs": [
    {
     "name": "stdout",
     "output_type": "stream",
     "text": [
      "enter your text: python\n",
      "Enter your key3\n",
      "encrypted text:  sbwkrq\n"
     ]
    }
   ],
   "source": [
    "alphabets = 'abcdefghijklmnopqrstuvwxyz'\n",
    "\n",
    "#user_input = ['python', 'hacker', 'wow']\n",
    "\n",
    "#distance_value = 3\n",
    "#n=len(user_input)\n",
    "\n",
    "#encrypted_output = []\n",
    "\n",
    "user_input = input(\"enter your text: \")\n",
    "distance_value =int(input(\"Enter your key\"))\n",
    "n=len(user_input)\n",
    "encrypted_output = ''\n",
    "for i in range(n):\n",
    "    character = user_input[i]\n",
    "    bigining_location = alphabets.find(character)\n",
    "    new_location = (bigining_location + distance_value) % 26\n",
    "    encrypted_output += alphabets[new_location]\n",
    "print(\"encrypted text: \", encrypted_output)\n"
   ]
  },
  {
   "cell_type": "code",
   "execution_count": null,
   "metadata": {},
   "outputs": [],
   "source": []
  },
  {
   "cell_type": "code",
   "execution_count": null,
   "metadata": {},
   "outputs": [],
   "source": []
  }
 ],
 "metadata": {
  "kernelspec": {
   "display_name": "Python 3",
   "language": "python",
   "name": "python3"
  },
  "language_info": {
   "codemirror_mode": {
    "name": "ipython",
    "version": 3
   },
   "file_extension": ".py",
   "mimetype": "text/x-python",
   "name": "python",
   "nbconvert_exporter": "python",
   "pygments_lexer": "ipython3",
   "version": "3.7.4"
  }
 },
 "nbformat": 4,
 "nbformat_minor": 2
}
