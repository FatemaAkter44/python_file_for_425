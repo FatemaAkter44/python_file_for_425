{
 "cells": [
  {
   "cell_type": "code",
   "execution_count": 18,
   "metadata": {},
   "outputs": [],
   "source": [
    "#part 1) Write a program that writes an external file called, \"data.txt\", that contains the following:\n",
    "#\"If this happens, then that happens that is not good.\"\n",
    "\n",
    "textFile = open(\"data.txt\", 'w')\n",
    "textFile.write(\"If this happens, then that happens that is not good.\")\n",
    "textFile.close()\n"
   ]
  },
  {
   "cell_type": "code",
   "execution_count": null,
   "metadata": {},
   "outputs": [],
   "source": [
    "# part 2) Write a program that inputs \"data.txt.\"\n",
    "textFile = open(\"data.txt\", 'r')\n",
    "\n",
    "#for line in textFile.readlines():\n",
    "   # print(line.strip())\n",
    "#while True:\n",
    "    #line = textFile.readlines()\n",
    "    #if line == \"\":\n",
    "       # break\n",
    "       # print(line)\n",
    "    \n",
    "line = textFile.readlines()\n",
    "my_string = str.maketrans(\",.\", 2*\"\")\n",
    "line.translate(my_string)\n",
    "print(line)\n",
    "    \n",
    "        \n",
    "textFile.close()"
   ]
  },
  {
   "cell_type": "code",
   "execution_count": null,
   "metadata": {},
   "outputs": [],
   "source": [
    "#Part 3) Split each word contained in data.txt, and put them into a list.\n",
    "#import numpy as np\n",
    "\n",
    "words = []\n",
    "uniqueWordList = []\n",
    "wordsList =[]\n",
    "textFile = open(\"data.txt\", 'r') \n",
    "for line in textFile:\n",
    "    words= line.split(\" \")\n",
    "    print(words)\n",
    "    \n",
    "#Part 4) Write a program that creates a list called, \"sortedWord\" \n",
    "#that sorts the words in the list in Part 3 in alphabetical order.\n",
    "\n",
    "sortedWord = sorted(words)\n",
    "print(sortedWord)\n",
    "\n",
    "#Part 5) Write a program that creates a list called, \"uniqueWordList\" \n",
    "#that contains unique words without repetition.\n",
    "for i in sortedWord:\n",
    "    wordsList.append(i)\n",
    "for j in  wordsList:\n",
    "    if j not in uniqueWordList:\n",
    "        uniqueWordList.append(j)\n",
    "print( uniqueWordList)\n",
    "\n",
    "\n",
    "    \n",
    "\n",
    "textFile.close()\n"
   ]
  },
  {
   "cell_type": "code",
   "execution_count": null,
   "metadata": {},
   "outputs": [],
   "source": []
  }
 ],
 "metadata": {
  "kernelspec": {
   "display_name": "Python 3",
   "language": "python",
   "name": "python3"
  },
  "language_info": {
   "codemirror_mode": {
    "name": "ipython",
    "version": 3
   },
   "file_extension": ".py",
   "mimetype": "text/x-python",
   "name": "python",
   "nbconvert_exporter": "python",
   "pygments_lexer": "ipython3",
   "version": "3.7.4"
  }
 },
 "nbformat": 4,
 "nbformat_minor": 2
}
