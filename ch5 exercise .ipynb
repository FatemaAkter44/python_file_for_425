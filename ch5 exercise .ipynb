{
 "cells": [
  {
   "cell_type": "markdown",
   "metadata": {},
   "source": [
    "passed =0\n",
    "failed= 0\n",
    "for students in range (10):\n",
    "    result = int(input('enter result ( 1=pass, 2=fail): '))\n",
    "    if result ==1:\n",
    "        passed = passed+1\n",
    "    else:\n",
    "        failed = failed+1\n",
    "print('passed', passed)\n",
    "print ('failed', failed)\n",
    "if passed > 8:\n",
    "    print ('get bonus')"
   ]
  },
  {
   "cell_type": "code",
   "execution_count": 11,
   "metadata": {},
   "outputs": [
    {
     "name": "stdout",
     "output_type": "stream",
     "text": [
      "enter result ( 1=pass, 2=fail): 1\n",
      "enter result ( 1=pass, 2=fail): 2\n",
      "enter result ( 1=pass, 2=fail): 3\n",
      "envalid entry\n",
      "enter result ( 1=pass, 2=fail): 1\n",
      "enter result ( 1=pass, 2=fail): 2\n",
      "enter result ( 1=pass, 2=fail): 1\n",
      "enter result ( 1=pass, 2=fail): 1\n",
      "enter result ( 1=pass, 2=fail): 1\n",
      "enter result ( 1=pass, 2=fail): 1\n",
      "enter result ( 1=pass, 2=fail): 1\n",
      "passed 7\n",
      "failed 2\n"
     ]
    }
   ],
   "source": [
    "passed =0\n",
    "failed= 0\n",
    "for students in range (10):\n",
    "    result = int(input('enter result ( 1=pass, 2=fail): '))\n",
    "    if result ==1:\n",
    "        passed = passed+1\n",
    "    elif result==2:\n",
    "        failed = failed+1\n",
    "    else:\n",
    "        print('envalid entry')\n",
    "print('passed', passed)\n",
    "print ('failed', failed)\n",
    "if passed > 8:\n",
    "    print ('get bonus')"
   ]
  },
  {
   "cell_type": "code",
   "execution_count": null,
   "metadata": {},
   "outputs": [],
   "source": []
  }
 ],
 "metadata": {
  "kernelspec": {
   "display_name": "Python 3",
   "language": "python",
   "name": "python3"
  },
  "language_info": {
   "codemirror_mode": {
    "name": "ipython",
    "version": 3
   },
   "file_extension": ".py",
   "mimetype": "text/x-python",
   "name": "python",
   "nbconvert_exporter": "python",
   "pygments_lexer": "ipython3",
   "version": "3.7.4"
  }
 },
 "nbformat": 4,
 "nbformat_minor": 2
}
